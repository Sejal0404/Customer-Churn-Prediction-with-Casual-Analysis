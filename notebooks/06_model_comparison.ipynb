{
 "cells": [
  {
   "cell_type": "code",
   "execution_count": null,
   "id": "62a1ddbf",
   "metadata": {},
   "outputs": [],
   "source": [
    "# Model Comparison Notebook\n",
    "import pandas as pd\n",
    "import numpy as np\n",
    "import matplotlib.pyplot as plt\n",
    "import seaborn as sns\n",
    "from src.utils import load_config, setup_logging\n",
    "\n",
    "# Setup\n",
    "config = load_config(\"../config/params.yaml\")\n",
    "setup_logging()\n",
    "\n",
    "print(\"Model comparison starting...\")\n",
    "\n",
    "# Load results\n",
    "model_comparison = pd.read_csv(\"../results/reports/model_comparison.csv\")\n",
    "feature_importance = pd.read_csv(\"../results/reports/feature_importance.csv\")\n",
    "shap_importance = pd.read_csv(\"../results/reports/shap_importance.csv\")\n",
    "\n",
    "# Create comparison plots\n",
    "fig, ((ax1, ax2), (ax3, ax4)) = plt.subplots(2, 2, figsize=(15, 10))\n",
    "\n",
    "# 1. Accuracy comparison\n",
    "model_comparison.sort_values('Accuracy').plot.barh(x='Model', y='Accuracy', ax=ax1)\n",
    "ax1.set_title('Model Accuracy Comparison')\n",
    "\n",
    "# 2. ROC-AUC comparison\n",
    "model_comparison.sort_values('ROC-AUC').plot.barh(x='Model', y='ROC-AUC', ax=ax2)\n",
    "ax2.set_title('Model ROC-AUC Comparison')\n",
    "\n",
    "# 3. Feature importance comparison\n",
    "feature_importance.head(10).plot.barh(x='feature', y='importance', ax=ax3)\n",
    "ax3.set_title('Top 10 Feature Importance')\n",
    "\n",
    "# 4. SHAP importance\n",
    "shap_importance.head(10).plot.barh(x='feature', y='shap_importance', ax=ax4)\n",
    "ax4.set_title('Top 10 SHAP Importance')\n",
    "\n",
    "plt.tight_layout()\n",
    "plt.savefig(\"../results/figures/model_comparison/comprehensive_comparison.png\", \n",
    "           bbox_inches='tight')\n",
    "\n",
    "print(\"Model comparison completed!\")"
   ]
  }
 ],
 "metadata": {
  "language_info": {
   "name": "python"
  }
 },
 "nbformat": 4,
 "nbformat_minor": 5
}
