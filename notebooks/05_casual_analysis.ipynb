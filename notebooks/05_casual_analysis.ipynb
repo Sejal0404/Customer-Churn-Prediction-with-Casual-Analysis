{
 "cells": [
  {
   "cell_type": "code",
   "execution_count": null,
   "id": "b6ea6eaa",
   "metadata": {},
   "outputs": [],
   "source": [
    "# Causal Analysis Notebook\n",
    "import pandas as pd\n",
    "import numpy as np\n",
    "import dowhy\n",
    "from src.utils import load_config, setup_logging\n",
    "from src.causal_analysis import CausalAnalyzer\n",
    "\n",
    "# Setup\n",
    "config = load_config(\"../config/params.yaml\")\n",
    "setup_logging()\n",
    "\n",
    "# Load data\n",
    "df_clean = pd.read_csv(\"../data/interim/preprocessed_data.csv\")\n",
    "\n",
    "print(\"Causal analysis starting...\")\n",
    "\n",
    "# Perform causal analysis\n",
    "causal_analyzer = CausalAnalyzer(df_clean, config)\n",
    "results = causal_analyzer.analyze_all_treatments()\n",
    "\n",
    "# Get summary\n",
    "causal_summary = causal_analyzer.get_effect_summary()\n",
    "causal_summary.to_csv(\"../results/reports/causal_effects.csv\", index=False)\n",
    "\n",
    "print(\"Causal effects summary:\")\n",
    "print(causal_summary)\n",
    "\n",
    "# Create causal graphs\n",
    "for treatment in config['causal_analysis']['treatment_variables']:\n",
    "    try:\n",
    "        fig = causal_analyzer.plot_causal_graph(treatment)\n",
    "        if fig:\n",
    "            fig.savefig(f\"../results/figures/causal/{treatment}_graph.png\", \n",
    "                       bbox_inches='tight')\n",
    "            plt.close()\n",
    "    except:\n",
    "        print(f\"Could not create graph for {treatment}\")\n",
    "\n",
    "print(\"Causal analysis completed!\")"
   ]
  }
 ],
 "metadata": {
  "kernelspec": {
   "display_name": "Python 3",
   "language": "python",
   "name": "python3"
  },
  "language_info": {
   "codemirror_mode": {
    "name": "ipython",
    "version": 3
   },
   "file_extension": ".py",
   "mimetype": "text/x-python",
   "name": "python",
   "nbconvert_exporter": "python",
   "pygments_lexer": "ipython3",
   "version": "3.9.23"
  }
 },
 "nbformat": 4,
 "nbformat_minor": 5
}
