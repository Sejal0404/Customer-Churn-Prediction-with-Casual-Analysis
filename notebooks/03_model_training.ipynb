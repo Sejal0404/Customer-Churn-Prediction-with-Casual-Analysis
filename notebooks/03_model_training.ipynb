{
 "cells": [
  {
   "cell_type": "code",
   "execution_count": null,
   "id": "9f77c932",
   "metadata": {},
   "outputs": [],
   "source": [
    "# Model Training Notebook\n",
    "import pandas as pd\n",
    "import numpy as np\n",
    "from sklearn.model_selection import train_test_split\n",
    "from src.utils import load_config, setup_logging\n",
    "from src.data_preprocessing import DataPreprocessor\n",
    "from src.model_training import ModelTrainer\n",
    "from src.evaluation import ModelEvaluator\n",
    "\n",
    "# Setup\n",
    "config = load_config(\"../config/params.yaml\")\n",
    "setup_logging()\n",
    "\n",
    "# Load and prepare data\n",
    "preprocessor = DataPreprocessor(config)\n",
    "df = preprocessor.load_data()\n",
    "df_clean = preprocessor.clean_data(df)\n",
    "X_processed, y, fitted_preprocessor = preprocessor.prepare_data(df_clean)\n",
    "X_train, X_test, y_train, y_test = preprocessor.split_data(X_processed, y)\n",
    "\n",
    "print(\"Model training starting...\")\n",
    "print(f\"Training set: {X_train.shape}\")\n",
    "print(f\"Test set: {X_test.shape}\")\n",
    "\n",
    "# Train models\n",
    "model_trainer = ModelTrainer(config)\n",
    "results = model_trainer.train_all_models(X_train, y_train, X_test, y_test)\n",
    "\n",
    "# Evaluate models\n",
    "evaluation_df = model_trainer.evaluate_models(X_test, y_test)\n",
    "print(\"Model comparison:\")\n",
    "print(evaluation_df)\n",
    "\n",
    "# Save results\n",
    "evaluation_df.to_csv(\"../results/reports/model_comparison.csv\", index=False)\n",
    "\n",
    "# Save best model\n",
    "if model_trainer.best_model:\n",
    "    import joblib\n",
    "    joblib.dump(model_trainer.best_model, \"../models/best_model.pkl\")\n",
    "    joblib.dump(fitted_preprocessor, \"../models/preprocessor.pkl\")\n",
    "    \n",
    "    # Save model metadata\n",
    "    model_metadata = {\n",
    "        'best_model': type(model_trainer.best_model).__name__,\n",
    "        'best_score': model_trainer.best_score,\n",
    "        'training_date': pd.Timestamp.now().strftime(\"%Y-%m-%d %H:%M:%S\"),\n",
    "        'feature_count': X_train.shape[1]\n",
    "    }\n",
    "    \n",
    "    import json\n",
    "    with open(\"../models/model_metadata.json\", 'w') as f:\n",
    "        json.dump(model_metadata, f)\n",
    "\n",
    "print(\"Model training completed!\")"
   ]
  }
 ],
 "metadata": {
  "kernelspec": {
   "display_name": "Python 3",
   "language": "python",
   "name": "python3"
  },
  "language_info": {
   "codemirror_mode": {
    "name": "ipython",
    "version": 3
   },
   "file_extension": ".py",
   "mimetype": "text/x-python",
   "name": "python",
   "nbconvert_exporter": "python",
   "pygments_lexer": "ipython3",
   "version": "3.9.23"
  }
 },
 "nbformat": 4,
 "nbformat_minor": 5
}
