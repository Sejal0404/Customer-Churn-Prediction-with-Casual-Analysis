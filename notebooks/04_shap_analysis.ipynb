{
 "cells": [
  {
   "cell_type": "code",
   "execution_count": null,
   "metadata": {},
   "outputs": [],
   "source": [
    "# SHAP Analysis Notebook\n",
    "import pandas as pd\n",
    "import numpy as np\n",
    "import shap\n",
    "import matplotlib.pyplot as plt\n",
    "from src.utils import load_config, setup_logging\n",
    "from src.explainability import SHAPExplainer\n",
    "\n",
    "# Setup\n",
    "config = load_config(\"../config/params.yaml\")\n",
    "setup_logging()\n",
    "\n",
    "# Load data and model\n",
    "X_train = pd.read_csv(\"../data/processed/train_features.csv\")\n",
    "X_test = pd.read_csv(\"../data/processed/test_features.csv\")\n",
    "model = joblib.load(\"../models/best_model.pkl\")\n",
    "preprocessor = joblib.load(\"../models/preprocessor.pkl\")\n",
    "\n",
    "print(\"SHAP analysis starting...\")\n",
    "\n",
    "# Initialize SHAP explainer\n",
    "explainer = SHAPExplainer(model, preprocessor, X_train.columns.tolist())\n",
    "explainer.create_explainer(X_train)\n",
    "\n",
    "# 1. Global feature importance\n",
    "shap_importance = explainer.get_feature_importance(X_test)\n",
    "shap_importance.to_csv(\"../results/reports/shap_importance.csv\", index=False)\n",
    "\n",
    "# 2. Summary plot\n",
    "plt.figure(figsize=(10, 8))\n",
    "explainer.summary_plot(X_test, show=False)\n",
    "plt.savefig(\"../results/figures/shap/summary_plot.png\", bbox_inches='tight')\n",
    "plt.close()\n",
    "\n",
    "# 3. Individual explanations\n",
    "for i in range(3):  # First 3 instances\n",
    "    plt.figure(figsize=(12, 4))\n",
    "    explainer.force_plot(i, X_test, show=False)\n",
    "    plt.savefig(f\"../results/figures/shap/force_plot_{i}.png\", bbox_inches='tight')\n",
    "    plt.close()\n",
    "\n",
    "print(\"SHAP analysis completed!\")"
   ]
  }
 ],
 "metadata": {
  "kernelspec": {
   "display_name": "Python 3",
   "language": "python",
   "name": "python3"
  },
  "language_info": {
   "codemirror_mode": {
    "name": "ipython",
    "version": 3
   },
   "file_extension": ".py",
   "mimetype": "text/x-python",
   "name": "python",
   "nbconvert_exporter": "python",
   "pygments_lexer": "ipython3",
   "version": "3.9.23"
  }
 },
 "nbformat": 4,
 "nbformat_minor": 5
}
