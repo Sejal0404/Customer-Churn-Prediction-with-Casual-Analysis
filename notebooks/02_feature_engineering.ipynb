{
 "cells": [
  {
   "cell_type": "code",
   "execution_count": null,
   "id": "b75771dc",
   "metadata": {},
   "outputs": [],
   "source": [
    "# Feature Engineering Notebook\n",
    "import pandas as pd\n",
    "import numpy as np\n",
    "import matplotlib.pyplot as plt\n",
    "import seaborn as sns\n",
    "from sklearn.feature_selection import SelectKBest, f_classif, RFE\n",
    "from sklearn.ensemble import RandomForestClassifier\n",
    "from src.utils import load_config, setup_logging\n",
    "from src.data_preprocessing import DataPreprocessor\n",
    "from src.feature_engineering import FeatureEngineer\n",
    "\n",
    "# Setup\n",
    "config = load_config(\"../config/params.yaml\")\n",
    "setup_logging()\n",
    "\n",
    "# Load and preprocess data\n",
    "preprocessor = DataPreprocessor(config)\n",
    "df = preprocessor.load_data()\n",
    "df_clean = preprocessor.clean_data(df)\n",
    "X_processed, y, fitted_preprocessor = preprocessor.prepare_data(df_clean)\n",
    "\n",
    "print(\"Feature engineering starting...\")\n",
    "print(f\"Original features: {X_processed.shape[1]}\")\n",
    "\n",
    "# Feature engineering\n",
    "feature_engineer = FeatureEngineer(config)\n",
    "\n",
    "# 1. Basic feature importance\n",
    "importance_df = feature_engineer.calculate_feature_importance(X_processed, y)\n",
    "print(\"Top 10 features by importance:\")\n",
    "print(importance_df.head(10))\n",
    "\n",
    "# 2. Feature selection using ANOVA\n",
    "X_anova, selected_anova, anova_scores = feature_engineer.select_features_anova(X_processed, y, k=20)\n",
    "print(f\"Selected {len(selected_anova)} features using ANOVA\")\n",
    "\n",
    "# 3. Feature selection using RFE\n",
    "X_rfe, selected_rfe, rfe_ranking = feature_engineer.select_features_rfe(X_processed, y, n_features=15)\n",
    "print(f\"Selected {len(selected_rfe)} features using RFE\")\n",
    "\n",
    "# Save results\n",
    "importance_df.to_csv(\"../results/reports/feature_importance.csv\", index=False)\n",
    "anova_scores.to_csv(\"../results/reports/anova_scores.csv\", index=False)\n",
    "rfe_ranking.to_csv(\"../results/reports/rfe_ranking.csv\", index=False)\n",
    "\n",
    "print(\"Feature engineering completed!\")"
   ]
  }
 ],
 "metadata": {
  "kernelspec": {
   "display_name": "churn-analysis",
   "language": "python",
   "name": "python3"
  },
  "language_info": {
   "codemirror_mode": {
    "name": "ipython",
    "version": 3
   },
   "file_extension": ".py",
   "mimetype": "text/x-python",
   "name": "python",
   "nbconvert_exporter": "python",
   "pygments_lexer": "ipython3",
   "version": "3.9.23"
  }
 },
 "nbformat": 4,
 "nbformat_minor": 5
}
